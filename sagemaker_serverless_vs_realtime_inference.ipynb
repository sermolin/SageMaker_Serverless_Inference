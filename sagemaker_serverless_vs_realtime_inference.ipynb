{
 "cells": [
  {
   "cell_type": "markdown",
   "id": "27ebcda4",
   "metadata": {},
   "source": [
    "# SageMaker Real-Time Inference vs Serverless Inference comparison\n",
    "## XGBoost Regression Example\n",
    "\n",
    "For this notebook we'll be working with the SageMaker XGBoost Algorithm to train a model and then deploy a serverless endpoint. We will be using the public S3 Abalone regression dataset for this example.\n",
    "\n",
    "<b>Notebook Setting</b>\n",
    "- <b>SageMaker Classic Notebook Instance</b>: ml.m5.xlarge Notebook Instance & conda_python3 Kernel\n",
    "- <b>SageMaker Studio</b>: Python 3 (Data Science)\n"
   ]
  },
  {
   "cell_type": "markdown",
   "id": "a2b1f582",
   "metadata": {},
   "source": [
    "## Table of Contents\n",
    "- Setup\n",
    "- Model upload\n",
    "- Deployment of real-time inference endpoint using SageMaker SDK \n",
    "    - Model Creation\n",
    "    - Endpoint Deployment\n",
    "    - Endpoint Invocation\n",
    "    - Endpoint Latency Distribution Analysis\n",
    "- Deployment of real-time inference endpoint using Boto3  \n",
    "    - Model Creation\n",
    "    - Endpoint Configuration\n",
    "    - Endpoint Deployment\n",
    "    - Endpoint Latency Distribution Analysis\n",
    "- Cleanup"
   ]
  },
  {
   "cell_type": "markdown",
   "id": "dbf0c9e3",
   "metadata": {},
   "source": [
    "## Setup\n",
    "\n",
    "For testing you need to properly configure your Notebook Role to have <b>SageMaker Full Access</b>."
   ]
  },
  {
   "cell_type": "markdown",
   "id": "db83cc91",
   "metadata": {},
   "source": [
    "Let's start by installing preview wheels of the Python SDK, boto and aws cli"
   ]
  },
  {
   "cell_type": "code",
   "execution_count": 1,
   "id": "97e2db33",
   "metadata": {},
   "outputs": [],
   "source": [
    "#! pip install sagemaker botocore boto3 awscli --upgrade"
   ]
  },
  {
   "cell_type": "code",
   "execution_count": 2,
   "id": "f877f1a5",
   "metadata": {},
   "outputs": [],
   "source": [
    "# Setup clients\n",
    "import boto3\n",
    "\n",
    "client = boto3.client(service_name=\"sagemaker\")\n",
    "runtime = boto3.client(service_name=\"sagemaker-runtime\")"
   ]
  },
  {
   "cell_type": "markdown",
   "id": "ca738317",
   "metadata": {},
   "source": [
    "### SageMaker Setup\n",
    "To begin, we import the AWS SDK for Python (Boto3) and set up our environment, including an IAM role and an S3 bucket to store our data."
   ]
  },
  {
   "cell_type": "code",
   "execution_count": 3,
   "id": "46f5e617",
   "metadata": {},
   "outputs": [
    {
     "name": "stdout",
     "output_type": "stream",
     "text": [
      "us-west-2\n",
      "arn:aws:iam::328296961357:role/service-role/AmazonSageMaker-ExecutionRole-20191125T182032\n"
     ]
    }
   ],
   "source": [
    "import boto3\n",
    "import sagemaker\n",
    "from sagemaker.estimator import Estimator\n",
    "import os\n",
    "#from os.path import join\n",
    "\n",
    "boto_session = boto3.session.Session()\n",
    "region = boto_session.region_name\n",
    "print(region)\n",
    "\n",
    "sagemaker_session = sagemaker.Session()\n",
    "base_job_prefix = \"xgboost-example\"\n",
    "role = sagemaker.get_execution_role()\n",
    "print(role)\n",
    "\n",
    "default_bucket = sagemaker_session.default_bucket()\n",
    "s3_prefix = base_job_prefix"
   ]
  },
  {
   "cell_type": "markdown",
   "id": "103c0016",
   "metadata": {},
   "source": [
    "#### We are not going to run through model training steps, but rather use an already-trained model. The XGBoost model used in ths example was trained on a publicly-available \"abalone\" dataset."
   ]
  },
  {
   "cell_type": "code",
   "execution_count": 4,
   "id": "26f82452",
   "metadata": {},
   "outputs": [],
   "source": [
    "# retrieve data\n",
    "#! curl https://sagemaker-sample-files.s3.amazonaws.com/datasets/tabular/uci_abalone/train_csv/abalone_dataset1_train.csv > abalone_dataset1_train.csv"
   ]
  },
  {
   "cell_type": "markdown",
   "id": "477963a2",
   "metadata": {},
   "source": [
    "## Model Deployment"
   ]
  },
  {
   "cell_type": "code",
   "execution_count": 5,
   "id": "29e0c5fc",
   "metadata": {},
   "outputs": [],
   "source": [
    "#upload model to S3 bucket.\n",
    "#SageMaker Model class accepts an S3 URI as input for model.tar.gz file, thus we need to upload the model to S3.\n",
    "#https://sagemaker.readthedocs.io/en/stable/api/inference/model.html#sagemaker.model.Model\n",
    "s3_prefix = os.path.join(base_job_prefix, \"xgb_model\")\n",
    "s3_model_path=sagemaker_session.upload_data(path=\"model\", bucket=default_bucket, key_prefix=s3_prefix)\n",
    "model_artifacts=os.path.join(s3_model_path, \"model.tar.gz\")\n"
   ]
  },
  {
   "cell_type": "markdown",
   "id": "a52c20f4",
   "metadata": {},
   "source": [
    "### Creating and Deploying a Model using SageMaker Python SDK\n",
    "Create a model by providing your model artifacts, the container image URI, environment variables for the container (if applicable), a model name, and the SageMaker IAM role."
   ]
  },
  {
   "cell_type": "code",
   "execution_count": 6,
   "id": "44fb8346",
   "metadata": {},
   "outputs": [
    {
     "name": "stdout",
     "output_type": "stream",
     "text": [
      "246618743249.dkr.ecr.us-west-2.amazonaws.com/sagemaker-xgboost:1.0-1-cpu-py3\n"
     ]
    }
   ],
   "source": [
    "from sagemaker import model\n",
    "\n",
    "# retrieve xgboost docker container image from AWA ECR (Elastic Container Registry)\n",
    "image_uri = sagemaker.image_uris.retrieve(\n",
    "    framework=\"xgboost\",\n",
    "    region=region,\n",
    "    version=\"1.0-1\",\n",
    "    py_version=\"py3\"\n",
    ")\n",
    "\n",
    "print(image_uri)\n",
    "\n",
    "#Initialize SageMaker model.\n",
    "inference_model = model.Model(\n",
    "    image_uri=image_uri, \n",
    "    model_data=model_artifacts,\n",
    "    role=role,\n",
    "    sagemaker_session=sagemaker_session,\n",
    "#    vpc_config = vpc_confg,\n",
    "#    enable_network_isolation = False,\n",
    "#    model_kms_key=model_kms_key,\n",
    ")"
   ]
  },
  {
   "cell_type": "code",
   "execution_count": 7,
   "id": "74f11097",
   "metadata": {},
   "outputs": [
    {
     "name": "stdout",
     "output_type": "stream",
     "text": [
      "---------!CPU times: user 122 ms, sys: 21.6 ms, total: 144 ms\n",
      "Wall time: 4min 31s\n"
     ]
    }
   ],
   "source": [
    "%%time\n",
    "#Deploy SageMaker model on an endpoint.\n",
    "from time import gmtime, strftime\n",
    "realtime_endpoint_name = \"xgboost-ep-sdk-\" + strftime(\"%Y-%m-%d-%H-%M-%S\", gmtime())\n",
    "predictor_sdk=inference_model.deploy(\n",
    "    initial_instance_count = 1,\n",
    "    instance_type='ml.c4.xlarge',\n",
    "    endpoint_name=realtime_endpoint_name,\n",
    "#    serializer,\n",
    "#    deserializer,\n",
    "#    kms_key=None,\n",
    "#    wait=True,\n",
    "    )"
   ]
  },
  {
   "cell_type": "markdown",
   "id": "16faf4ae",
   "metadata": {},
   "source": [
    "### Creating and Deploying the same model as a Serverless Endpoint via Boto3 SDK\n",
    "Create a model by providing your model artifacts, the container image URI, environment variables for the container (if applicable), a model name, and the SageMaker IAM role."
   ]
  },
  {
   "cell_type": "code",
   "execution_count": 8,
   "id": "a8d1aa8e",
   "metadata": {},
   "outputs": [
    {
     "name": "stdout",
     "output_type": "stream",
     "text": [
      "Model name: xgboost-serverless-2022-01-26-17-33-52\n",
      "Model Arn: arn:aws:sagemaker:us-west-2:328296961357:model/xgboost-serverless-2022-01-26-17-33-52\n"
     ]
    }
   ],
   "source": [
    "from time import gmtime, strftime\n",
    "\n",
    "serverless_model_name = \"xgboost-serverless-\" + strftime(\"%Y-%m-%d-%H-%M-%S\", gmtime())\n",
    "print(\"Model name: \" + serverless_model_name)\n",
    "\n",
    "# dummy environment variables\n",
    "byo_container_env_vars = {\"SAGEMAKER_CONTAINER_LOG_LEVEL\": \"20\", \"SOME_ENV_VAR\": \"myEnvVar\"}\n",
    "\n",
    "create_model_response = client.create_model(\n",
    "    ModelName=serverless_model_name,\n",
    "    Containers=[\n",
    "        {\n",
    "            \"Image\": image_uri,\n",
    "            \"Mode\": \"SingleModel\",\n",
    "            \"ModelDataUrl\": model_artifacts,\n",
    "            \"Environment\": byo_container_env_vars,\n",
    "        }\n",
    "    ],\n",
    "    ExecutionRoleArn=role,\n",
    ")\n",
    "\n",
    "print(\"Model Arn: \" + create_model_response[\"ModelArn\"])"
   ]
  },
  {
   "cell_type": "markdown",
   "id": "1c045fcf",
   "metadata": {},
   "source": [
    "### Creating Serverless Endpoint Configuration \n",
    "\n",
    "This is where you can adjust the <b>Serverless Configuration</b> for your endpoint. The current max concurrent invocations for a single endpoint, known as <b>MaxConcurrency</b>, can be any value from <b>1 to 50</b>, and <b>MemorySize</b> can be any of the following: <b>1024 MB, 2048 MB, 3072 MB, 4096 MB, 5120 MB, or 6144 MB</b>."
   ]
  },
  {
   "cell_type": "code",
   "execution_count": 9,
   "id": "03542bf6",
   "metadata": {},
   "outputs": [
    {
     "name": "stdout",
     "output_type": "stream",
     "text": [
      "Endpoint Configuration Arn: arn:aws:sagemaker:us-west-2:328296961357:endpoint-config/xgboost-serverless-epc-2022-01-26-17-33-53\n"
     ]
    }
   ],
   "source": [
    "xgboost_serverless_epc_name = \"xgboost-serverless-epc-\" + strftime(\"%Y-%m-%d-%H-%M-%S\", gmtime())\n",
    "\n",
    "serverless_ep_config_response = client.create_endpoint_config(\n",
    "    EndpointConfigName=xgboost_serverless_epc_name,\n",
    "    ProductionVariants=[\n",
    "        {\n",
    "            \"VariantName\": \"byoVariant\",\n",
    "            \"ModelName\": serverless_model_name,\n",
    "            \"ServerlessConfig\": {\n",
    "                \"MemorySizeInMB\": 4096,\n",
    "                \"MaxConcurrency\": 1,\n",
    "            },\n",
    "        },\n",
    "    ],\n",
    ")\n",
    "\n",
    "print(\"Endpoint Configuration Arn: \" + serverless_ep_config_response[\"EndpointConfigArn\"])"
   ]
  },
  {
   "cell_type": "markdown",
   "id": "3900e90a",
   "metadata": {},
   "source": [
    "### Creating Serverless Endpoint\n",
    "Now that we have an endpoint configuration, we can create a serverless endpoint and deploy our model to it. When creating the endpoint, provide the name of your endpoint configuration and a name for the new endpoint."
   ]
  },
  {
   "cell_type": "code",
   "execution_count": 10,
   "id": "2e2879b5",
   "metadata": {},
   "outputs": [
    {
     "name": "stdout",
     "output_type": "stream",
     "text": [
      "Endpoint Arn: arn:aws:sagemaker:us-west-2:328296961357:endpoint/xgboost-serverless-ep-2022-01-26-17-33-53\n"
     ]
    }
   ],
   "source": [
    "serverless_endpoint_name = \"xgboost-serverless-ep-\" + strftime(\"%Y-%m-%d-%H-%M-%S\", gmtime())\n",
    "\n",
    "create_serverless_endpoint_response = client.create_endpoint(\n",
    "    EndpointName=serverless_endpoint_name,\n",
    "    EndpointConfigName=xgboost_serverless_epc_name,\n",
    ")\n",
    "\n",
    "print(\"Endpoint Arn: \" + create_serverless_endpoint_response[\"EndpointArn\"])"
   ]
  },
  {
   "cell_type": "markdown",
   "id": "15f0b247",
   "metadata": {},
   "source": [
    "#### Wait until the serverless endpoint status is InService before invoking the endpoint."
   ]
  },
  {
   "cell_type": "code",
   "execution_count": 11,
   "id": "259cf5b4",
   "metadata": {},
   "outputs": [
    {
     "name": "stdout",
     "output_type": "stream",
     "text": [
      "Creating\n",
      "Creating\n",
      "Creating\n",
      "Creating\n",
      "Creating\n",
      "Creating\n",
      "Creating\n",
      "Creating\n",
      "Creating\n",
      "Creating\n",
      "Creating\n",
      "Creating\n",
      "Creating\n",
      "Creating\n",
      "Creating\n",
      "InService\n",
      "CPU times: user 173 ms, sys: 27.4 ms, total: 200 ms\n",
      "Wall time: 4min 3s\n"
     ]
    },
    {
     "data": {
      "text/plain": [
       "{'EndpointName': 'xgboost-serverless-ep-2022-01-26-17-33-53',\n",
       " 'EndpointArn': 'arn:aws:sagemaker:us-west-2:328296961357:endpoint/xgboost-serverless-ep-2022-01-26-17-33-53',\n",
       " 'EndpointConfigName': 'xgboost-serverless-epc-2022-01-26-17-33-53',\n",
       " 'ProductionVariants': [{'VariantName': 'byoVariant',\n",
       "   'DeployedImages': [{'SpecifiedImage': '246618743249.dkr.ecr.us-west-2.amazonaws.com/sagemaker-xgboost:1.0-1-cpu-py3',\n",
       "     'ResolvedImage': '246618743249.dkr.ecr.us-west-2.amazonaws.com/sagemaker-xgboost@sha256:04889b02181f14632e19ef6c2a7d74bfe699ff4c7f44669a78834bc90b77fe5a',\n",
       "     'ResolutionTime': datetime.datetime(2022, 1, 26, 17, 33, 56, 468000, tzinfo=tzlocal())}],\n",
       "   'CurrentWeight': 1.0,\n",
       "   'DesiredWeight': 1.0,\n",
       "   'CurrentInstanceCount': 0,\n",
       "   'CurrentServerlessConfig': {'MemorySizeInMB': 4096, 'MaxConcurrency': 1}}],\n",
       " 'EndpointStatus': 'InService',\n",
       " 'CreationTime': datetime.datetime(2022, 1, 26, 17, 33, 53, 478000, tzinfo=tzlocal()),\n",
       " 'LastModifiedTime': datetime.datetime(2022, 1, 26, 17, 37, 41, 504000, tzinfo=tzlocal()),\n",
       " 'ResponseMetadata': {'RequestId': '084bde4d-4ec7-46ae-a7ff-4e0c268a1dce',\n",
       "  'HTTPStatusCode': 200,\n",
       "  'HTTPHeaders': {'x-amzn-requestid': '084bde4d-4ec7-46ae-a7ff-4e0c268a1dce',\n",
       "   'content-type': 'application/x-amz-json-1.1',\n",
       "   'content-length': '821',\n",
       "   'date': 'Wed, 26 Jan 2022 17:37:40 GMT'},\n",
       "  'RetryAttempts': 0}}"
      ]
     },
     "execution_count": 11,
     "metadata": {},
     "output_type": "execute_result"
    }
   ],
   "source": [
    "%%time\n",
    "# wait for endpoint to reach a terminal state (InService) using describe endpoint\n",
    "import time\n",
    "\n",
    "describe_serverless_endpoint_response = client.describe_endpoint(EndpointName=serverless_endpoint_name)\n",
    "\n",
    "while describe_serverless_endpoint_response[\"EndpointStatus\"] == \"Creating\":\n",
    "    describe_serverless_endpoint_response = client.describe_endpoint(EndpointName=serverless_endpoint_name)\n",
    "    print(describe_serverless_endpoint_response[\"EndpointStatus\"])\n",
    "    time.sleep(15)\n",
    "\n",
    "describe_serverless_endpoint_response"
   ]
  },
  {
   "cell_type": "markdown",
   "id": "9e8ebc10",
   "metadata": {},
   "source": [
    "### Invoking Endpoint\n",
    "Now that we have deployed a SageMaker real-time endpoint and a Serverless Endpoints, let us compare their performance\n",
    "For the payload, we use a sample data point grabbed from the CSV file downloaded from the public Abalone dataset."
   ]
  },
  {
   "cell_type": "markdown",
   "id": "43ccf44f",
   "metadata": {},
   "source": [
    "#### Invoking the real-time endpoint example"
   ]
  },
  {
   "cell_type": "code",
   "execution_count": 12,
   "id": "a22ec176",
   "metadata": {},
   "outputs": [
    {
     "name": "stdout",
     "output_type": "stream",
     "text": [
      "b'4.566554546356201'\n"
     ]
    }
   ],
   "source": [
    "realtime_response_sdk = runtime.invoke_endpoint(\n",
    "    EndpointName=realtime_endpoint_name,\n",
    "    Body=b\".345,0.224414,.131102,0.042329,.279923,-0.110329,-0.099358,0.0\",\n",
    "    ContentType=\"text/csv\",\n",
    ")\n",
    "\n",
    "print(realtime_response_sdk[\"Body\"].read())"
   ]
  },
  {
   "cell_type": "code",
   "execution_count": 13,
   "id": "87c717e2",
   "metadata": {},
   "outputs": [],
   "source": [
    "#### Invoking the serverless endpoint example"
   ]
  },
  {
   "cell_type": "code",
   "execution_count": 14,
   "id": "df8eeea1",
   "metadata": {},
   "outputs": [
    {
     "name": "stdout",
     "output_type": "stream",
     "text": [
      "b'4.566554546356201'\n"
     ]
    }
   ],
   "source": [
    "serverless_response = runtime.invoke_endpoint(\n",
    "    EndpointName=serverless_endpoint_name,\n",
    "    Body=b\".345,0.224414,.131102,0.042329,.279923,-0.110329,-0.099358,0.0\",\n",
    "    ContentType=\"text/csv\",\n",
    ")\n",
    "\n",
    "print(serverless_response[\"Body\"].read())"
   ]
  },
  {
   "cell_type": "markdown",
   "id": "0f496887",
   "metadata": {},
   "source": [
    "#### Let us define a helper function to get a histogram of invocation latency distribution"
   ]
  },
  {
   "cell_type": "code",
   "execution_count": 15,
   "id": "b44244db",
   "metadata": {},
   "outputs": [],
   "source": [
    "import matplotlib.pyplot as plt\n",
    "import time\n",
    "import numpy as np\n",
    "\n",
    "def _latency_hist_plot(endpoint_name, invocation_number=100):\n",
    "    latency_array = []\n",
    "    for i in range(invocation_number):\n",
    "        tic = time.time()\n",
    "        response_ = runtime.invoke_endpoint(\n",
    "            EndpointName=endpoint_name,\n",
    "            Body=b\".345,0.224414,.131102,0.042329,.279923,-0.110329,-0.099358,0.0\",\n",
    "            ContentType=\"text/csv\")\n",
    "        toc = time.time()\n",
    "        latency_array.append(toc-tic)\n",
    "        \n",
    "    latency_array_np = np.array(latency_array)\n",
    "    _ = plt.hist(latency_array_np, bins='auto')  # arguments are passed to np.histogram\n",
    "    plt.title(\"Invocation Latency Histogram with 'auto' bins\")\n",
    "    plt.show()"
   ]
  },
  {
   "cell_type": "markdown",
   "id": "7f7a6df2",
   "metadata": {},
   "source": [
    "### Latency distribtuion comparison for real-time vs serverless endpoints"
   ]
  },
  {
   "cell_type": "code",
   "execution_count": 16,
   "id": "97bf13cc",
   "metadata": {},
   "outputs": [],
   "source": [
    "invocation_number = 200"
   ]
  },
  {
   "cell_type": "code",
   "execution_count": 17,
   "id": "09568773",
   "metadata": {},
   "outputs": [
    {
     "data": {
      "image/png": "[encoded data removed]",
      "text/plain": [
       "<Figure size 432x288 with 1 Axes>"
      ]
     },
     "metadata": {
      "needs_background": "light"
     },
     "output_type": "display_data"
    },
    {
     "name": "stdout",
     "output_type": "stream",
     "text": [
      "CPU times: user 2.7 s, sys: 121 ms, total: 2.82 s\n",
      "Wall time: 9.29 s\n"
     ]
    }
   ],
   "source": [
    "%%time\n",
    "# Real-time endpoint\n",
    "_latency_hist_plot(realtime_endpoint_name, invocation_number)"
   ]
  },
  {
   "cell_type": "code",
   "execution_count": 18,
   "id": "cde3e044",
   "metadata": {},
   "outputs": [
    {
     "data": {
      "image/png": "[encoded data removed]",
      "text/plain": [
       "<Figure size 432x288 with 1 Axes>"
      ]
     },
     "metadata": {
      "needs_background": "light"
     },
     "output_type": "display_data"
    },
    {
     "name": "stdout",
     "output_type": "stream",
     "text": [
      "CPU times: user 2.26 s, sys: 124 ms, total: 2.39 s\n",
      "Wall time: 27.9 s\n"
     ]
    }
   ],
   "source": [
    "%%time\n",
    "# Serverless endpoint\n",
    "_latency_hist_plot(serverless_endpoint_name, invocation_number)"
   ]
  },
  {
   "cell_type": "markdown",
   "id": "08f2100a",
   "metadata": {},
   "source": [
    "### Results discussion\n",
    "with serverless endpoint, the invocation latency is longer and there are more outliers in latency distribution"
   ]
  },
  {
   "cell_type": "markdown",
   "id": "66576e65",
   "metadata": {},
   "source": [
    "## Cold Endpoint invocation\n",
    "If we wait 10-15 minutes and invoke the serverless endpoint, we will see 1st invocation taking longer than subsequent ones."
   ]
  },
  {
   "cell_type": "code",
   "execution_count": 19,
   "id": "cb80d78a",
   "metadata": {},
   "outputs": [],
   "source": [
    "time.sleep(600)"
   ]
  },
  {
   "cell_type": "code",
   "execution_count": 20,
   "id": "d720f0f3",
   "metadata": {},
   "outputs": [
    {
     "data": {
      "image/png": "[encoded data removed]",
      "text/plain": [
       "<Figure size 432x288 with 1 Axes>"
      ]
     },
     "metadata": {
      "needs_background": "light"
     },
     "output_type": "display_data"
    },
    {
     "name": "stdout",
     "output_type": "stream",
     "text": [
      "CPU times: user 630 ms, sys: 50 µs, total: 630 ms\n",
      "Wall time: 8.68 s\n"
     ]
    }
   ],
   "source": [
    "%%time\n",
    "# Serverless endpoint\n",
    "_latency_hist_plot(serverless_endpoint_name, 10)"
   ]
  },
  {
   "cell_type": "markdown",
   "id": "7712cd94",
   "metadata": {},
   "source": [
    "### Results discussion\n",
    "First COLD invocation of a serverless end point take several seconds, after which the latency goes back to WARM invocation that we saw before"
   ]
  },
  {
   "cell_type": "markdown",
   "id": "9d593178",
   "metadata": {},
   "source": [
    "## Clean Up\n",
    "Delete any resources you created in this notebook that you no longer wish to use."
   ]
  },
  {
   "cell_type": "code",
   "execution_count": 23,
   "id": "0c8d7867",
   "metadata": {},
   "outputs": [
    {
     "data": {
      "text/plain": [
       "{'ResponseMetadata': {'RequestId': '87c3d4ed-4529-4342-a590-10391ba59c94',\n",
       "  'HTTPStatusCode': 200,\n",
       "  'HTTPHeaders': {'x-amzn-requestid': '87c3d4ed-4529-4342-a590-10391ba59c94',\n",
       "   'content-type': 'application/x-amz-json-1.1',\n",
       "   'content-length': '0',\n",
       "   'date': 'Wed, 26 Jan 2022 18:23:16 GMT'},\n",
       "  'RetryAttempts': 0}}"
      ]
     },
     "execution_count": 23,
     "metadata": {},
     "output_type": "execute_result"
    }
   ],
   "source": [
    "#client.delete_model(ModelName=serverless_model_name)\n",
    "#client.delete_endpoint_config(EndpointConfigName=xgboost_serverless_epc_name)\n",
    "#client.delete_endpoint(EndpointName=serverless_endpoint_name)"
   ]
  },
  {
   "cell_type": "code",
   "execution_count": 24,
   "id": "7df5afa1",
   "metadata": {},
   "outputs": [
    {
     "data": {
      "text/plain": [
       "{'ResponseMetadata': {'RequestId': '77171727-b007-4255-983b-64188c46c7f9',\n",
       "  'HTTPStatusCode': 200,\n",
       "  'HTTPHeaders': {'x-amzn-requestid': '77171727-b007-4255-983b-64188c46c7f9',\n",
       "   'content-type': 'application/x-amz-json-1.1',\n",
       "   'content-length': '0',\n",
       "   'date': 'Wed, 26 Jan 2022 18:23:20 GMT'},\n",
       "  'RetryAttempts': 0}}"
      ]
     },
     "execution_count": 24,
     "metadata": {},
     "output_type": "execute_result"
    }
   ],
   "source": [
    "#inference_model.delete_model()\n",
    "#client.delete_endpoint(EndpointName=realtime_endpoint_name)"
   ]
  },
  {
   "cell_type": "code",
   "execution_count": null,
   "id": "fcb0c25a",
   "metadata": {},
   "outputs": [],
   "source": []
  }
 ],
 "metadata": {
  "instance_type": "ml.t3.medium",
  "kernelspec": {
   "display_name": "conda_python3",
   "language": "python",
   "name": "conda_python3"
  },
  "language_info": {
   "codemirror_mode": {
    "name": "ipython",
    "version": 3
   },
   "file_extension": ".py",
   "mimetype": "text/x-python",
   "name": "python",
   "nbconvert_exporter": "python",
   "pygments_lexer": "ipython3",
   "version": "3.6.13"
  }
 },
 "nbformat": 4,
 "nbformat_minor": 5
}
